{
 "cells": [
  {
   "cell_type": "code",
   "execution_count": 1,
   "id": "99b9e44d",
   "metadata": {},
   "outputs": [],
   "source": [
    "#Import necessary libraries\n",
    "\n",
    "import pandas as pd\n",
    "import matplotlib.pyplot as plt\n",
    "import seaborn as sns\n",
    "from sklearn.preprocessing import LabelEncoder\n",
    "from sklearn.model_selection import train_test_split\n",
    "from sklearn.ensemble import RandomForestClassifier\n",
    "from sklearn.metrics import accuracy_score\n",
    "from sklearn.model_selection import GridSearchCV"
   ]
  },
  {
   "cell_type": "code",
   "execution_count": 2,
   "id": "a5e3380b",
   "metadata": {},
   "outputs": [
    {
     "data": {
      "text/html": [
       "<div>\n",
       "<style scoped>\n",
       "    .dataframe tbody tr th:only-of-type {\n",
       "        vertical-align: middle;\n",
       "    }\n",
       "\n",
       "    .dataframe tbody tr th {\n",
       "        vertical-align: top;\n",
       "    }\n",
       "\n",
       "    .dataframe thead th {\n",
       "        text-align: right;\n",
       "    }\n",
       "</style>\n",
       "<table border=\"1\" class=\"dataframe\">\n",
       "  <thead>\n",
       "    <tr style=\"text-align: right;\">\n",
       "      <th></th>\n",
       "      <th>EmpNumber</th>\n",
       "      <th>Age</th>\n",
       "      <th>Gender</th>\n",
       "      <th>EducationBackground</th>\n",
       "      <th>MaritalStatus</th>\n",
       "      <th>EmpDepartment</th>\n",
       "      <th>EmpJobRole</th>\n",
       "      <th>BusinessTravelFrequency</th>\n",
       "      <th>DistanceFromHome</th>\n",
       "      <th>EmpEducationLevel</th>\n",
       "      <th>...</th>\n",
       "      <th>EmpRelationshipSatisfaction</th>\n",
       "      <th>TotalWorkExperienceInYears</th>\n",
       "      <th>TrainingTimesLastYear</th>\n",
       "      <th>EmpWorkLifeBalance</th>\n",
       "      <th>ExperienceYearsAtThisCompany</th>\n",
       "      <th>ExperienceYearsInCurrentRole</th>\n",
       "      <th>YearsSinceLastPromotion</th>\n",
       "      <th>YearsWithCurrManager</th>\n",
       "      <th>Attrition</th>\n",
       "      <th>PerformanceRating</th>\n",
       "    </tr>\n",
       "  </thead>\n",
       "  <tbody>\n",
       "    <tr>\n",
       "      <th>0</th>\n",
       "      <td>E1001000</td>\n",
       "      <td>32</td>\n",
       "      <td>Male</td>\n",
       "      <td>Marketing</td>\n",
       "      <td>Single</td>\n",
       "      <td>Sales</td>\n",
       "      <td>Sales Executive</td>\n",
       "      <td>Travel_Rarely</td>\n",
       "      <td>10</td>\n",
       "      <td>3</td>\n",
       "      <td>...</td>\n",
       "      <td>4</td>\n",
       "      <td>10</td>\n",
       "      <td>2</td>\n",
       "      <td>2</td>\n",
       "      <td>10</td>\n",
       "      <td>7</td>\n",
       "      <td>0</td>\n",
       "      <td>8</td>\n",
       "      <td>No</td>\n",
       "      <td>3</td>\n",
       "    </tr>\n",
       "    <tr>\n",
       "      <th>1</th>\n",
       "      <td>E1001006</td>\n",
       "      <td>47</td>\n",
       "      <td>Male</td>\n",
       "      <td>Marketing</td>\n",
       "      <td>Single</td>\n",
       "      <td>Sales</td>\n",
       "      <td>Sales Executive</td>\n",
       "      <td>Travel_Rarely</td>\n",
       "      <td>14</td>\n",
       "      <td>4</td>\n",
       "      <td>...</td>\n",
       "      <td>4</td>\n",
       "      <td>20</td>\n",
       "      <td>2</td>\n",
       "      <td>3</td>\n",
       "      <td>7</td>\n",
       "      <td>7</td>\n",
       "      <td>1</td>\n",
       "      <td>7</td>\n",
       "      <td>No</td>\n",
       "      <td>3</td>\n",
       "    </tr>\n",
       "    <tr>\n",
       "      <th>2</th>\n",
       "      <td>E1001007</td>\n",
       "      <td>40</td>\n",
       "      <td>Male</td>\n",
       "      <td>Life Sciences</td>\n",
       "      <td>Married</td>\n",
       "      <td>Sales</td>\n",
       "      <td>Sales Executive</td>\n",
       "      <td>Travel_Frequently</td>\n",
       "      <td>5</td>\n",
       "      <td>4</td>\n",
       "      <td>...</td>\n",
       "      <td>3</td>\n",
       "      <td>20</td>\n",
       "      <td>2</td>\n",
       "      <td>3</td>\n",
       "      <td>18</td>\n",
       "      <td>13</td>\n",
       "      <td>1</td>\n",
       "      <td>12</td>\n",
       "      <td>No</td>\n",
       "      <td>4</td>\n",
       "    </tr>\n",
       "    <tr>\n",
       "      <th>3</th>\n",
       "      <td>E1001009</td>\n",
       "      <td>41</td>\n",
       "      <td>Male</td>\n",
       "      <td>Human Resources</td>\n",
       "      <td>Divorced</td>\n",
       "      <td>Human Resources</td>\n",
       "      <td>Manager</td>\n",
       "      <td>Travel_Rarely</td>\n",
       "      <td>10</td>\n",
       "      <td>4</td>\n",
       "      <td>...</td>\n",
       "      <td>2</td>\n",
       "      <td>23</td>\n",
       "      <td>2</td>\n",
       "      <td>2</td>\n",
       "      <td>21</td>\n",
       "      <td>6</td>\n",
       "      <td>12</td>\n",
       "      <td>6</td>\n",
       "      <td>No</td>\n",
       "      <td>3</td>\n",
       "    </tr>\n",
       "    <tr>\n",
       "      <th>4</th>\n",
       "      <td>E1001010</td>\n",
       "      <td>60</td>\n",
       "      <td>Male</td>\n",
       "      <td>Marketing</td>\n",
       "      <td>Single</td>\n",
       "      <td>Sales</td>\n",
       "      <td>Sales Executive</td>\n",
       "      <td>Travel_Rarely</td>\n",
       "      <td>16</td>\n",
       "      <td>4</td>\n",
       "      <td>...</td>\n",
       "      <td>4</td>\n",
       "      <td>10</td>\n",
       "      <td>1</td>\n",
       "      <td>3</td>\n",
       "      <td>2</td>\n",
       "      <td>2</td>\n",
       "      <td>2</td>\n",
       "      <td>2</td>\n",
       "      <td>No</td>\n",
       "      <td>3</td>\n",
       "    </tr>\n",
       "  </tbody>\n",
       "</table>\n",
       "<p>5 rows × 28 columns</p>\n",
       "</div>"
      ],
      "text/plain": [
       "  EmpNumber  Age Gender EducationBackground MaritalStatus    EmpDepartment  \\\n",
       "0  E1001000   32   Male           Marketing        Single            Sales   \n",
       "1  E1001006   47   Male           Marketing        Single            Sales   \n",
       "2  E1001007   40   Male       Life Sciences       Married            Sales   \n",
       "3  E1001009   41   Male     Human Resources      Divorced  Human Resources   \n",
       "4  E1001010   60   Male           Marketing        Single            Sales   \n",
       "\n",
       "        EmpJobRole BusinessTravelFrequency  DistanceFromHome  \\\n",
       "0  Sales Executive           Travel_Rarely                10   \n",
       "1  Sales Executive           Travel_Rarely                14   \n",
       "2  Sales Executive       Travel_Frequently                 5   \n",
       "3          Manager           Travel_Rarely                10   \n",
       "4  Sales Executive           Travel_Rarely                16   \n",
       "\n",
       "   EmpEducationLevel  ...  EmpRelationshipSatisfaction  \\\n",
       "0                  3  ...                            4   \n",
       "1                  4  ...                            4   \n",
       "2                  4  ...                            3   \n",
       "3                  4  ...                            2   \n",
       "4                  4  ...                            4   \n",
       "\n",
       "   TotalWorkExperienceInYears  TrainingTimesLastYear  EmpWorkLifeBalance  \\\n",
       "0                          10                      2                   2   \n",
       "1                          20                      2                   3   \n",
       "2                          20                      2                   3   \n",
       "3                          23                      2                   2   \n",
       "4                          10                      1                   3   \n",
       "\n",
       "   ExperienceYearsAtThisCompany  ExperienceYearsInCurrentRole  \\\n",
       "0                            10                             7   \n",
       "1                             7                             7   \n",
       "2                            18                            13   \n",
       "3                            21                             6   \n",
       "4                             2                             2   \n",
       "\n",
       "  YearsSinceLastPromotion  YearsWithCurrManager  Attrition  PerformanceRating  \n",
       "0                       0                     8         No                  3  \n",
       "1                       1                     7         No                  3  \n",
       "2                       1                    12         No                  4  \n",
       "3                      12                     6         No                  3  \n",
       "4                       2                     2         No                  3  \n",
       "\n",
       "[5 rows x 28 columns]"
      ]
     },
     "execution_count": 2,
     "metadata": {},
     "output_type": "execute_result"
    }
   ],
   "source": [
    "#The dataset is in Excel File\n",
    "\n",
    "file_path = \"C:\\\\Users\\\\Maria\\\\OneDrive\\\\Desktop\\\\IABAC Project\\\\Employee_Dataset.xlsx\"\n",
    "\n",
    "#Load the dataset into a DataFrame\n",
    "\n",
    "df = pd.read_excel(file_path)\n",
    "\n",
    "# Display the first few rows of the DataFrame\n",
    "df.head()"
   ]
  },
  {
   "cell_type": "code",
   "execution_count": 3,
   "id": "c66ea5b8",
   "metadata": {},
   "outputs": [
    {
     "name": "stdout",
     "output_type": "stream",
     "text": [
      "Index(['EmpNumber', 'Age', 'Gender', 'EducationBackground', 'MaritalStatus',\n",
      "       'EmpDepartment', 'EmpJobRole', 'BusinessTravelFrequency',\n",
      "       'DistanceFromHome', 'EmpEducationLevel', 'EmpEnvironmentSatisfaction',\n",
      "       'EmpHourlyRate', 'EmpJobInvolvement', 'EmpJobLevel',\n",
      "       'EmpJobSatisfaction', 'NumCompaniesWorked', 'OverTime',\n",
      "       'EmpLastSalaryHikePercent', 'EmpRelationshipSatisfaction',\n",
      "       'TotalWorkExperienceInYears', 'TrainingTimesLastYear',\n",
      "       'EmpWorkLifeBalance', 'ExperienceYearsAtThisCompany',\n",
      "       'ExperienceYearsInCurrentRole', 'YearsSinceLastPromotion',\n",
      "       'YearsWithCurrManager', 'Attrition', 'PerformanceRating'],\n",
      "      dtype='object')\n"
     ]
    }
   ],
   "source": [
    "# Check the columns of your DataFrame\n",
    "print(df.columns)"
   ]
  },
  {
   "cell_type": "code",
   "execution_count": 4,
   "id": "10a9712c",
   "metadata": {},
   "outputs": [
    {
     "name": "stdout",
     "output_type": "stream",
     "text": [
      "EmpNumber                       object\n",
      "Age                              int64\n",
      "Gender                          object\n",
      "EducationBackground             object\n",
      "MaritalStatus                   object\n",
      "EmpDepartment                   object\n",
      "EmpJobRole                      object\n",
      "BusinessTravelFrequency         object\n",
      "DistanceFromHome                 int64\n",
      "EmpEducationLevel                int64\n",
      "EmpEnvironmentSatisfaction       int64\n",
      "EmpHourlyRate                    int64\n",
      "EmpJobInvolvement                int64\n",
      "EmpJobLevel                      int64\n",
      "EmpJobSatisfaction               int64\n",
      "NumCompaniesWorked               int64\n",
      "OverTime                        object\n",
      "EmpLastSalaryHikePercent         int64\n",
      "EmpRelationshipSatisfaction      int64\n",
      "TotalWorkExperienceInYears       int64\n",
      "TrainingTimesLastYear            int64\n",
      "EmpWorkLifeBalance               int64\n",
      "ExperienceYearsAtThisCompany     int64\n",
      "ExperienceYearsInCurrentRole     int64\n",
      "YearsSinceLastPromotion          int64\n",
      "YearsWithCurrManager             int64\n",
      "Attrition                       object\n",
      "PerformanceRating                int64\n",
      "dtype: object\n"
     ]
    }
   ],
   "source": [
    "#Check the data types\n",
    "\n",
    "print(df.dtypes)"
   ]
  },
  {
   "cell_type": "code",
   "execution_count": 5,
   "id": "74446157",
   "metadata": {},
   "outputs": [
    {
     "name": "stdout",
     "output_type": "stream",
     "text": [
      "0\n"
     ]
    }
   ],
   "source": [
    "#Check for duplicates\n",
    "\n",
    "print(df.duplicated().sum())"
   ]
  },
  {
   "cell_type": "code",
   "execution_count": 6,
   "id": "111d1fd6",
   "metadata": {},
   "outputs": [
    {
     "name": "stdout",
     "output_type": "stream",
     "text": [
      "               Age  DistanceFromHome  EmpEducationLevel  \\\n",
      "count  1200.000000       1200.000000         1200.00000   \n",
      "mean     36.918333          9.165833            2.89250   \n",
      "std       9.087289          8.176636            1.04412   \n",
      "min      18.000000          1.000000            1.00000   \n",
      "25%      30.000000          2.000000            2.00000   \n",
      "50%      36.000000          7.000000            3.00000   \n",
      "75%      43.000000         14.000000            4.00000   \n",
      "max      60.000000         29.000000            5.00000   \n",
      "\n",
      "       EmpEnvironmentSatisfaction  EmpHourlyRate  EmpJobInvolvement  \\\n",
      "count                 1200.000000    1200.000000        1200.000000   \n",
      "mean                     2.715833      65.981667           2.731667   \n",
      "std                      1.090599      20.211302           0.707164   \n",
      "min                      1.000000      30.000000           1.000000   \n",
      "25%                      2.000000      48.000000           2.000000   \n",
      "50%                      3.000000      66.000000           3.000000   \n",
      "75%                      4.000000      83.000000           3.000000   \n",
      "max                      4.000000     100.000000           4.000000   \n",
      "\n",
      "       EmpJobLevel  EmpJobSatisfaction  NumCompaniesWorked  \\\n",
      "count  1200.000000         1200.000000         1200.000000   \n",
      "mean      2.067500            2.732500            2.665000   \n",
      "std       1.107836            1.100888            2.469384   \n",
      "min       1.000000            1.000000            0.000000   \n",
      "25%       1.000000            2.000000            1.000000   \n",
      "50%       2.000000            3.000000            2.000000   \n",
      "75%       3.000000            4.000000            4.000000   \n",
      "max       5.000000            4.000000            9.000000   \n",
      "\n",
      "       EmpLastSalaryHikePercent  EmpRelationshipSatisfaction  \\\n",
      "count               1200.000000                  1200.000000   \n",
      "mean                  15.222500                     2.725000   \n",
      "std                    3.625918                     1.075642   \n",
      "min                   11.000000                     1.000000   \n",
      "25%                   12.000000                     2.000000   \n",
      "50%                   14.000000                     3.000000   \n",
      "75%                   18.000000                     4.000000   \n",
      "max                   25.000000                     4.000000   \n",
      "\n",
      "       TotalWorkExperienceInYears  TrainingTimesLastYear  EmpWorkLifeBalance  \\\n",
      "count                 1200.000000            1200.000000         1200.000000   \n",
      "mean                    11.330000               2.785833            2.744167   \n",
      "std                      7.797228               1.263446            0.699374   \n",
      "min                      0.000000               0.000000            1.000000   \n",
      "25%                      6.000000               2.000000            2.000000   \n",
      "50%                     10.000000               3.000000            3.000000   \n",
      "75%                     15.000000               3.000000            3.000000   \n",
      "max                     40.000000               6.000000            4.000000   \n",
      "\n",
      "       ExperienceYearsAtThisCompany  ExperienceYearsInCurrentRole  \\\n",
      "count                   1200.000000                   1200.000000   \n",
      "mean                       7.077500                      4.291667   \n",
      "std                        6.236899                      3.613744   \n",
      "min                        0.000000                      0.000000   \n",
      "25%                        3.000000                      2.000000   \n",
      "50%                        5.000000                      3.000000   \n",
      "75%                       10.000000                      7.000000   \n",
      "max                       40.000000                     18.000000   \n",
      "\n",
      "       YearsSinceLastPromotion  YearsWithCurrManager  PerformanceRating  \n",
      "count              1200.000000           1200.000000        1200.000000  \n",
      "mean                  2.194167              4.105000           2.948333  \n",
      "std                   3.221560              3.541576           0.518866  \n",
      "min                   0.000000              0.000000           2.000000  \n",
      "25%                   0.000000              2.000000           3.000000  \n",
      "50%                   1.000000              3.000000           3.000000  \n",
      "75%                   3.000000              7.000000           3.000000  \n",
      "max                  15.000000             17.000000           4.000000  \n"
     ]
    }
   ],
   "source": [
    "#Summary Statistics for numerical columns\n",
    "\n",
    "print(df.describe())"
   ]
  },
  {
   "cell_type": "code",
   "execution_count": 7,
   "id": "ebc8b761",
   "metadata": {},
   "outputs": [
    {
     "name": "stdout",
     "output_type": "stream",
     "text": [
      "Index(['EmpNumber', 'Age', 'Gender', 'EducationBackground', 'MaritalStatus',\n",
      "       'EmpDepartment', 'EmpJobRole', 'BusinessTravelFrequency',\n",
      "       'DistanceFromHome', 'EmpEducationLevel', 'EmpEnvironmentSatisfaction',\n",
      "       'EmpHourlyRate', 'EmpJobInvolvement', 'EmpJobLevel',\n",
      "       'EmpJobSatisfaction', 'NumCompaniesWorked', 'OverTime',\n",
      "       'EmpLastSalaryHikePercent', 'EmpRelationshipSatisfaction',\n",
      "       'TotalWorkExperienceInYears', 'TrainingTimesLastYear',\n",
      "       'EmpWorkLifeBalance', 'ExperienceYearsAtThisCompany',\n",
      "       'ExperienceYearsInCurrentRole', 'YearsSinceLastPromotion',\n",
      "       'YearsWithCurrManager', 'Attrition', 'PerformanceRating'],\n",
      "      dtype='object')\n"
     ]
    }
   ],
   "source": [
    "# Check the columns of your DataFrame\n",
    "print(df.columns)"
   ]
  },
  {
   "cell_type": "code",
   "execution_count": 8,
   "id": "92316fc3",
   "metadata": {},
   "outputs": [
    {
     "name": "stdout",
     "output_type": "stream",
     "text": [
      "EmpNumber                       0\n",
      "Age                             0\n",
      "Gender                          0\n",
      "EducationBackground             0\n",
      "MaritalStatus                   0\n",
      "EmpDepartment                   0\n",
      "EmpJobRole                      0\n",
      "BusinessTravelFrequency         0\n",
      "DistanceFromHome                0\n",
      "EmpEducationLevel               0\n",
      "EmpEnvironmentSatisfaction      0\n",
      "EmpHourlyRate                   0\n",
      "EmpJobInvolvement               0\n",
      "EmpJobLevel                     0\n",
      "EmpJobSatisfaction              0\n",
      "NumCompaniesWorked              0\n",
      "OverTime                        0\n",
      "EmpLastSalaryHikePercent        0\n",
      "EmpRelationshipSatisfaction     0\n",
      "TotalWorkExperienceInYears      0\n",
      "TrainingTimesLastYear           0\n",
      "EmpWorkLifeBalance              0\n",
      "ExperienceYearsAtThisCompany    0\n",
      "ExperienceYearsInCurrentRole    0\n",
      "YearsSinceLastPromotion         0\n",
      "YearsWithCurrManager            0\n",
      "Attrition                       0\n",
      "PerformanceRating               0\n",
      "dtype: int64\n"
     ]
    }
   ],
   "source": [
    "#Check for missing values\n",
    "\n",
    "print(df.isnull().sum())"
   ]
  },
  {
   "cell_type": "code",
   "execution_count": 9,
   "id": "604291e9",
   "metadata": {},
   "outputs": [
    {
     "name": "stdout",
     "output_type": "stream",
     "text": [
      "Index(['EmpNumber', 'Age', 'Gender', 'EducationBackground', 'MaritalStatus',\n",
      "       'EmpDepartment', 'EmpJobRole', 'BusinessTravelFrequency',\n",
      "       'DistanceFromHome', 'EmpEducationLevel', 'EmpEnvironmentSatisfaction',\n",
      "       'EmpHourlyRate', 'EmpJobInvolvement', 'EmpJobLevel',\n",
      "       'EmpJobSatisfaction', 'NumCompaniesWorked', 'OverTime',\n",
      "       'EmpLastSalaryHikePercent', 'EmpRelationshipSatisfaction',\n",
      "       'TotalWorkExperienceInYears', 'TrainingTimesLastYear',\n",
      "       'EmpWorkLifeBalance', 'ExperienceYearsAtThisCompany',\n",
      "       'ExperienceYearsInCurrentRole', 'YearsSinceLastPromotion',\n",
      "       'YearsWithCurrManager', 'Attrition', 'PerformanceRating'],\n",
      "      dtype='object')\n"
     ]
    }
   ],
   "source": [
    "# Check the columns of your DataFrame\n",
    "print(df.columns)"
   ]
  },
  {
   "cell_type": "markdown",
   "id": "87ace763",
   "metadata": {},
   "source": [
    "VISUALIZATION\n"
   ]
  },
  {
   "cell_type": "code",
   "execution_count": 10,
   "id": "710c1089",
   "metadata": {},
   "outputs": [
    {
     "data": {
      "text/plain": [
       "Text(0.5, 1.0, 'Age Histogram')"
      ]
     },
     "execution_count": 10,
     "metadata": {},
     "output_type": "execute_result"
    },
    {
     "data": {
      "image/png": "[encoded data removed]",
      "text/plain": [
       "<Figure size 1200x600 with 1 Axes>"
      ]
     },
     "metadata": {},
     "output_type": "display_data"
    }
   ],
   "source": [
    "#Create a Histogram of Age\n",
    "\n",
    "plt.figure(figsize=(12,6))\n",
    "plt.subplot(2,2,1)\n",
    "sns.histplot(df[\"Age\"], kde=True)\n",
    "plt.title(\"Age Histogram\")"
   ]
  },
  {
   "cell_type": "code",
   "execution_count": 11,
   "id": "5dbd457e",
   "metadata": {},
   "outputs": [
    {
     "data": {
      "text/plain": [
       "Text(0.5, 1.0, 'Boxplot of Distance From Home by Attrition')"
      ]
     },
     "execution_count": 11,
     "metadata": {},
     "output_type": "execute_result"
    },
    {
     "data": {
      "image/png": "[encoded data removed]",
      "text/plain": [
       "<Figure size 640x480 with 1 Axes>"
      ]
     },
     "metadata": {},
     "output_type": "display_data"
    }
   ],
   "source": [
    "#BoxPlot of Distance From Home by Attrition\n",
    "\n",
    "plt.subplot(2,2,2)\n",
    "sns.boxplot(x=\"Attrition\", y=\"DistanceFromHome\",data=df)\n",
    "plt.title(\"Boxplot of Distance From Home by Attrition\")"
   ]
  },
  {
   "cell_type": "code",
   "execution_count": 12,
   "id": "8a21e485",
   "metadata": {},
   "outputs": [
    {
     "data": {
      "text/plain": [
       "Text(0.5, 1.0, 'Countplot of Employee Job Satisfaction ')"
      ]
     },
     "execution_count": 12,
     "metadata": {},
     "output_type": "execute_result"
    },
    {
     "data": {
      "image/png": "[encoded data removed]",
      "text/plain": [
       "<Figure size 640x480 with 1 Axes>"
      ]
     },
     "metadata": {},
     "output_type": "display_data"
    }
   ],
   "source": [
    "#Barchart of Job Satisfaction\n",
    "\n",
    "plt.subplot(2,2,3)\n",
    "sns.countplot(x=\"EmpJobSatisfaction\", data=df)\n",
    "plt.title(\"Countplot of Employee Job Satisfaction \")"
   ]
  },
  {
   "cell_type": "code",
   "execution_count": 13,
   "id": "c4e7ff84",
   "metadata": {},
   "outputs": [
    {
     "data": {
      "image/png": "[encoded data removed]",
      "text/plain": [
       "<Figure size 640x480 with 1 Axes>"
      ]
     },
     "metadata": {},
     "output_type": "display_data"
    }
   ],
   "source": [
    "#Scatter plot of Years At Company vs Monthly Income\n",
    "\n",
    "plt.subplot(2, 2, 4)\n",
    "sns.scatterplot(x=\"ExperienceYearsAtThisCompany\", y=\"TotalWorkExperienceInYears\", data=df)\n",
    "plt.title(\"Scatter Plot of Experience Years At This Company vs Total Work Experience In Years\")\n",
    "plt.tight_layout()\n",
    "plt.show()"
   ]
  },
  {
   "cell_type": "code",
   "execution_count": 14,
   "id": "114b44d8",
   "metadata": {},
   "outputs": [
    {
     "name": "stdout",
     "output_type": "stream",
     "text": [
      "Index(['EmpNumber', 'Age', 'Gender', 'EducationBackground', 'MaritalStatus',\n",
      "       'EmpDepartment', 'EmpJobRole', 'BusinessTravelFrequency',\n",
      "       'DistanceFromHome', 'EmpEducationLevel', 'EmpEnvironmentSatisfaction',\n",
      "       'EmpHourlyRate', 'EmpJobInvolvement', 'EmpJobLevel',\n",
      "       'EmpJobSatisfaction', 'NumCompaniesWorked', 'OverTime',\n",
      "       'EmpLastSalaryHikePercent', 'EmpRelationshipSatisfaction',\n",
      "       'TotalWorkExperienceInYears', 'TrainingTimesLastYear',\n",
      "       'EmpWorkLifeBalance', 'ExperienceYearsAtThisCompany',\n",
      "       'ExperienceYearsInCurrentRole', 'YearsSinceLastPromotion',\n",
      "       'YearsWithCurrManager', 'Attrition', 'PerformanceRating'],\n",
      "      dtype='object')\n"
     ]
    }
   ],
   "source": [
    "# Check the columns of your DataFrame\n",
    "print(df.columns)"
   ]
  },
  {
   "cell_type": "code",
   "execution_count": 15,
   "id": "d15d379a",
   "metadata": {},
   "outputs": [
    {
     "name": "stdout",
     "output_type": "stream",
     "text": [
      "EmpNumber\n",
      "EmpNumber\n",
      "E1001000    1\n",
      "E100346     1\n",
      "E100342     1\n",
      "E100341     1\n",
      "E100340     1\n",
      "           ..\n",
      "E1001718    1\n",
      "E1001717    1\n",
      "E1001716    1\n",
      "E1001713    1\n",
      "E100998     1\n",
      "Name: count, Length: 1200, dtype: int64\n",
      "\n",
      "Gender\n",
      "Gender\n",
      "Male      725\n",
      "Female    475\n",
      "Name: count, dtype: int64\n",
      "\n",
      "EducationBackground\n",
      "EducationBackground\n",
      "Life Sciences       492\n",
      "Medical             384\n",
      "Marketing           137\n",
      "Technical Degree    100\n",
      "Other                66\n",
      "Human Resources      21\n",
      "Name: count, dtype: int64\n",
      "\n",
      "MaritalStatus\n",
      "MaritalStatus\n",
      "Married     548\n",
      "Single      384\n",
      "Divorced    268\n",
      "Name: count, dtype: int64\n",
      "\n",
      "EmpDepartment\n",
      "EmpDepartment\n",
      "Sales                     373\n",
      "Development               361\n",
      "Research & Development    343\n",
      "Human Resources            54\n",
      "Finance                    49\n",
      "Data Science               20\n",
      "Name: count, dtype: int64\n",
      "\n",
      "EmpJobRole\n",
      "EmpJobRole\n",
      "Sales Executive              270\n",
      "Developer                    236\n",
      "Manager R&D                   94\n",
      "Research Scientist            77\n",
      "Sales Representative          69\n",
      "Laboratory Technician         64\n",
      "Senior Developer              52\n",
      "Manager                       51\n",
      "Finance Manager               49\n",
      "Human Resources               45\n",
      "Technical Lead                38\n",
      "Manufacturing Director        33\n",
      "Healthcare Representative     33\n",
      "Data Scientist                20\n",
      "Research Director             19\n",
      "Business Analyst              16\n",
      "Senior Manager R&D            15\n",
      "Delivery Manager              12\n",
      "Technical Architect            7\n",
      "Name: count, dtype: int64\n",
      "\n",
      "BusinessTravelFrequency\n",
      "BusinessTravelFrequency\n",
      "Travel_Rarely        846\n",
      "Travel_Frequently    222\n",
      "Non-Travel           132\n",
      "Name: count, dtype: int64\n",
      "\n",
      "OverTime\n",
      "OverTime\n",
      "No     847\n",
      "Yes    353\n",
      "Name: count, dtype: int64\n",
      "\n",
      "Attrition\n",
      "Attrition\n",
      "No     1022\n",
      "Yes     178\n",
      "Name: count, dtype: int64\n",
      "\n"
     ]
    }
   ],
   "source": [
    "#Explore categorical variables\n",
    "\n",
    "for column in df.select_dtypes(include=[\"object\"]):\n",
    "    print(column)\n",
    "    print(df[column].value_counts())\n",
    "    print()"
   ]
  },
  {
   "cell_type": "code",
   "execution_count": 16,
   "id": "b94d361f",
   "metadata": {},
   "outputs": [
    {
     "name": "stdout",
     "output_type": "stream",
     "text": [
      "Index(['EmpNumber', 'Age', 'Gender', 'EducationBackground', 'MaritalStatus',\n",
      "       'EmpDepartment', 'EmpJobRole', 'BusinessTravelFrequency',\n",
      "       'DistanceFromHome', 'EmpEducationLevel', 'EmpEnvironmentSatisfaction',\n",
      "       'EmpHourlyRate', 'EmpJobInvolvement', 'EmpJobLevel',\n",
      "       'EmpJobSatisfaction', 'NumCompaniesWorked', 'OverTime',\n",
      "       'EmpLastSalaryHikePercent', 'EmpRelationshipSatisfaction',\n",
      "       'TotalWorkExperienceInYears', 'TrainingTimesLastYear',\n",
      "       'EmpWorkLifeBalance', 'ExperienceYearsAtThisCompany',\n",
      "       'ExperienceYearsInCurrentRole', 'YearsSinceLastPromotion',\n",
      "       'YearsWithCurrManager', 'Attrition', 'PerformanceRating'],\n",
      "      dtype='object')\n"
     ]
    }
   ],
   "source": [
    "# Check the columns of your DataFrame\n",
    "print(df.columns)"
   ]
  },
  {
   "cell_type": "code",
   "execution_count": 17,
   "id": "0469559d",
   "metadata": {},
   "outputs": [
    {
     "name": "stdout",
     "output_type": "stream",
     "text": [
      "     EmpNumber  Age  Gender  EducationBackground  MaritalStatus  \\\n",
      "0     E1001000   32       1                    2              2   \n",
      "1     E1001006   47       1                    2              2   \n",
      "2     E1001007   40       1                    1              1   \n",
      "3     E1001009   41       1                    0              0   \n",
      "4     E1001010   60       1                    2              2   \n",
      "...        ...  ...     ...                  ...            ...   \n",
      "1195   E100992   27       0                    3              0   \n",
      "1196   E100993   37       1                    1              2   \n",
      "1197   E100994   50       1                    3              1   \n",
      "1198   E100995   34       0                    3              2   \n",
      "1199   E100998   24       0                    1              2   \n",
      "\n",
      "      EmpDepartment  EmpJobRole  BusinessTravelFrequency  DistanceFromHome  \\\n",
      "0                 5          13                        2                10   \n",
      "1                 5          13                        2                14   \n",
      "2                 5          13                        1                 5   \n",
      "3                 3           8                        2                10   \n",
      "4                 5          13                        2                16   \n",
      "...             ...         ...                      ...               ...   \n",
      "1195              5          13                        1                 3   \n",
      "1196              1          15                        2                10   \n",
      "1197              1          15                        2                28   \n",
      "1198              0           1                        2                 9   \n",
      "1199              5          13                        2                 3   \n",
      "\n",
      "      EmpEducationLevel  ...  EmpRelationshipSatisfaction  \\\n",
      "0                     3  ...                            4   \n",
      "1                     4  ...                            4   \n",
      "2                     4  ...                            3   \n",
      "3                     4  ...                            2   \n",
      "4                     4  ...                            4   \n",
      "...                 ...  ...                          ...   \n",
      "1195                  1  ...                            2   \n",
      "1196                  2  ...                            1   \n",
      "1197                  1  ...                            3   \n",
      "1198                  3  ...                            2   \n",
      "1199                  2  ...                            1   \n",
      "\n",
      "      TotalWorkExperienceInYears  TrainingTimesLastYear  EmpWorkLifeBalance  \\\n",
      "0                             10                      2                   2   \n",
      "1                             20                      2                   3   \n",
      "2                             20                      2                   3   \n",
      "3                             23                      2                   2   \n",
      "4                             10                      1                   3   \n",
      "...                          ...                    ...                 ...   \n",
      "1195                           6                      3                   3   \n",
      "1196                           4                      2                   3   \n",
      "1197                          20                      3                   3   \n",
      "1198                           9                      3                   4   \n",
      "1199                           4                      3                   3   \n",
      "\n",
      "      ExperienceYearsAtThisCompany  ExperienceYearsInCurrentRole  \\\n",
      "0                               10                             7   \n",
      "1                                7                             7   \n",
      "2                               18                            13   \n",
      "3                               21                             6   \n",
      "4                                2                             2   \n",
      "...                            ...                           ...   \n",
      "1195                             6                             5   \n",
      "1196                             1                             0   \n",
      "1197                            20                             8   \n",
      "1198                             8                             7   \n",
      "1199                             2                             2   \n",
      "\n",
      "      YearsSinceLastPromotion  YearsWithCurrManager  Attrition  \\\n",
      "0                           0                     8          0   \n",
      "1                           1                     7          0   \n",
      "2                           1                    12          0   \n",
      "3                          12                     6          0   \n",
      "4                           2                     2          0   \n",
      "...                       ...                   ...        ...   \n",
      "1195                        0                     4          0   \n",
      "1196                        0                     0          0   \n",
      "1197                        3                     8          0   \n",
      "1198                        7                     7          0   \n",
      "1199                        2                     0          1   \n",
      "\n",
      "      PerformanceRating  \n",
      "0                     3  \n",
      "1                     3  \n",
      "2                     4  \n",
      "3                     3  \n",
      "4                     3  \n",
      "...                 ...  \n",
      "1195                  4  \n",
      "1196                  3  \n",
      "1197                  3  \n",
      "1198                  3  \n",
      "1199                  2  \n",
      "\n",
      "[1200 rows x 28 columns]\n"
     ]
    }
   ],
   "source": [
    "# Encode categorical columns using LabelEncoder\n",
    "label_columns = ['Gender', 'OverTime', 'EducationBackground', 'MaritalStatus', 'EmpDepartment', 'EmpJobRole', 'BusinessTravelFrequency', 'Attrition']\n",
    "label_encoders = {}\n",
    "for column in label_columns:\n",
    "    if column != 'EmpNumber':\n",
    "       label_encoders[column] = LabelEncoder()\n",
    "       df[column] = label_encoders[column].fit_transform(df[column])\n",
    "\n",
    "# Display the encoded DataFrame\n",
    "print(df)\n"
   ]
  },
  {
   "cell_type": "code",
   "execution_count": 18,
   "id": "7d9be910",
   "metadata": {},
   "outputs": [
    {
     "name": "stdout",
     "output_type": "stream",
     "text": [
      "  EmpNumber  Age  Gender_encoded  EducationBackground_encoded  \\\n",
      "0  E1001000   32               1                            2   \n",
      "1  E1001006   47               1                            2   \n",
      "2  E1001007   40               1                            1   \n",
      "3  E1001009   41               1                            0   \n",
      "4  E1001010   60               1                            2   \n",
      "\n",
      "   MaritalStatus_encoded  EmpDepartment_encoded  EmpJobRole_encoded  \\\n",
      "0                      2                      5                  13   \n",
      "1                      2                      5                  13   \n",
      "2                      1                      5                  13   \n",
      "3                      0                      3                   8   \n",
      "4                      2                      5                  13   \n",
      "\n",
      "   BusinessTravelFrequency_encoded  DistanceFromHome  EmpEducationLevel  ...  \\\n",
      "0                                2                10                  3  ...   \n",
      "1                                2                14                  4  ...   \n",
      "2                                1                 5                  4  ...   \n",
      "3                                2                10                  4  ...   \n",
      "4                                2                16                  4  ...   \n",
      "\n",
      "   EmpRelationshipSatisfaction  TotalWorkExperienceInYears  \\\n",
      "0                            4                          10   \n",
      "1                            4                          20   \n",
      "2                            3                          20   \n",
      "3                            2                          23   \n",
      "4                            4                          10   \n",
      "\n",
      "   TrainingTimesLastYear  EmpWorkLifeBalance  ExperienceYearsAtThisCompany  \\\n",
      "0                      2                   2                            10   \n",
      "1                      2                   3                             7   \n",
      "2                      2                   3                            18   \n",
      "3                      2                   2                            21   \n",
      "4                      1                   3                             2   \n",
      "\n",
      "   ExperienceYearsInCurrentRole  YearsSinceLastPromotion  \\\n",
      "0                             7                        0   \n",
      "1                             7                        1   \n",
      "2                            13                        1   \n",
      "3                             6                       12   \n",
      "4                             2                        2   \n",
      "\n",
      "   YearsWithCurrManager  Attrition_encoded  PerformanceRating  \n",
      "0                     8                  0                  3  \n",
      "1                     7                  0                  3  \n",
      "2                    12                  0                  4  \n",
      "3                     6                  0                  3  \n",
      "4                     2                  0                  3  \n",
      "\n",
      "[5 rows x 28 columns]\n"
     ]
    }
   ],
   "source": [
    "# Rename columns after encoding\n",
    "new_column_names = {}\n",
    "for column in label_columns:\n",
    "    new_column_names[column] = [f\"{column}_encoded\"]\n",
    "    df.rename(columns={column: f\"{column}_encoded\"}, inplace=True)\n",
    "\n",
    "# Display the first few rows of the DataFrame\n",
    "print(df.head())"
   ]
  },
  {
   "cell_type": "code",
   "execution_count": 19,
   "id": "3c978d8a",
   "metadata": {},
   "outputs": [],
   "source": [
    "# Split the data into training and testing sets\n",
    "X_train, X_test, y_train, y_test = train_test_split(df.drop(['PerformanceRating','EmpNumber'],axis=1),\n",
    "                                                    df['PerformanceRating'], test_size=0.2, random_state=42)\n"
   ]
  },
  {
   "cell_type": "code",
   "execution_count": 20,
   "id": "ab80aa2f",
   "metadata": {},
   "outputs": [
    {
     "data": {
      "text/html": [
       "<style>#sk-container-id-1 {color: black;}#sk-container-id-1 pre{padding: 0;}#sk-container-id-1 div.sk-toggleable {background-color: white;}#sk-container-id-1 label.sk-toggleable__label {cursor: pointer;display: block;width: 100%;margin-bottom: 0;padding: 0.3em;box-sizing: border-box;text-align: center;}#sk-container-id-1 label.sk-toggleable__label-arrow:before {content: \"▸\";float: left;margin-right: 0.25em;color: #696969;}#sk-container-id-1 label.sk-toggleable__label-arrow:hover:before {color: black;}#sk-container-id-1 div.sk-estimator:hover label.sk-toggleable__label-arrow:before {color: black;}#sk-container-id-1 div.sk-toggleable__content {max-height: 0;max-width: 0;overflow: hidden;text-align: left;background-color: #f0f8ff;}#sk-container-id-1 div.sk-toggleable__content pre {margin: 0.2em;color: black;border-radius: 0.25em;background-color: #f0f8ff;}#sk-container-id-1 input.sk-toggleable__control:checked~div.sk-toggleable__content {max-height: 200px;max-width: 100%;overflow: auto;}#sk-container-id-1 input.sk-toggleable__control:checked~label.sk-toggleable__label-arrow:before {content: \"▾\";}#sk-container-id-1 div.sk-estimator input.sk-toggleable__control:checked~label.sk-toggleable__label {background-color: #d4ebff;}#sk-container-id-1 div.sk-label input.sk-toggleable__control:checked~label.sk-toggleable__label {background-color: #d4ebff;}#sk-container-id-1 input.sk-hidden--visually {border: 0;clip: rect(1px 1px 1px 1px);clip: rect(1px, 1px, 1px, 1px);height: 1px;margin: -1px;overflow: hidden;padding: 0;position: absolute;width: 1px;}#sk-container-id-1 div.sk-estimator {font-family: monospace;background-color: #f0f8ff;border: 1px dotted black;border-radius: 0.25em;box-sizing: border-box;margin-bottom: 0.5em;}#sk-container-id-1 div.sk-estimator:hover {background-color: #d4ebff;}#sk-container-id-1 div.sk-parallel-item::after {content: \"\";width: 100%;border-bottom: 1px solid gray;flex-grow: 1;}#sk-container-id-1 div.sk-label:hover label.sk-toggleable__label {background-color: #d4ebff;}#sk-container-id-1 div.sk-serial::before {content: \"\";position: absolute;border-left: 1px solid gray;box-sizing: border-box;top: 0;bottom: 0;left: 50%;z-index: 0;}#sk-container-id-1 div.sk-serial {display: flex;flex-direction: column;align-items: center;background-color: white;padding-right: 0.2em;padding-left: 0.2em;position: relative;}#sk-container-id-1 div.sk-item {position: relative;z-index: 1;}#sk-container-id-1 div.sk-parallel {display: flex;align-items: stretch;justify-content: center;background-color: white;position: relative;}#sk-container-id-1 div.sk-item::before, #sk-container-id-1 div.sk-parallel-item::before {content: \"\";position: absolute;border-left: 1px solid gray;box-sizing: border-box;top: 0;bottom: 0;left: 50%;z-index: -1;}#sk-container-id-1 div.sk-parallel-item {display: flex;flex-direction: column;z-index: 1;position: relative;background-color: white;}#sk-container-id-1 div.sk-parallel-item:first-child::after {align-self: flex-end;width: 50%;}#sk-container-id-1 div.sk-parallel-item:last-child::after {align-self: flex-start;width: 50%;}#sk-container-id-1 div.sk-parallel-item:only-child::after {width: 0;}#sk-container-id-1 div.sk-dashed-wrapped {border: 1px dashed gray;margin: 0 0.4em 0.5em 0.4em;box-sizing: border-box;padding-bottom: 0.4em;background-color: white;}#sk-container-id-1 div.sk-label label {font-family: monospace;font-weight: bold;display: inline-block;line-height: 1.2em;}#sk-container-id-1 div.sk-label-container {text-align: center;}#sk-container-id-1 div.sk-container {/* jupyter's `normalize.less` sets `[hidden] { display: none; }` but bootstrap.min.css set `[hidden] { display: none !important; }` so we also need the `!important` here to be able to override the default hidden behavior on the sphinx rendered scikit-learn.org. See: https://github.com/scikit-learn/scikit-learn/issues/21755 */display: inline-block !important;position: relative;}#sk-container-id-1 div.sk-text-repr-fallback {display: none;}</style><div id=\"sk-container-id-1\" class=\"sk-top-container\"><div class=\"sk-text-repr-fallback\"><pre>RandomForestClassifier()</pre><b>In a Jupyter environment, please rerun this cell to show the HTML representation or trust the notebook. <br />On GitHub, the HTML representation is unable to render, please try loading this page with nbviewer.org.</b></div><div class=\"sk-container\" hidden><div class=\"sk-item\"><div class=\"sk-estimator sk-toggleable\"><input class=\"sk-toggleable__control sk-hidden--visually\" id=\"sk-estimator-id-1\" type=\"checkbox\" checked><label for=\"sk-estimator-id-1\" class=\"sk-toggleable__label sk-toggleable__label-arrow\">RandomForestClassifier</label><div class=\"sk-toggleable__content\"><pre>RandomForestClassifier()</pre></div></div></div></div></div>"
      ],
      "text/plain": [
       "RandomForestClassifier()"
      ]
     },
     "execution_count": 20,
     "metadata": {},
     "output_type": "execute_result"
    }
   ],
   "source": [
    "# Train the RandomForestClassifier model\n",
    "clf = RandomForestClassifier()\n",
    "clf.fit(X_train, y_train)"
   ]
  },
  {
   "cell_type": "code",
   "execution_count": 21,
   "id": "b31960d9",
   "metadata": {},
   "outputs": [],
   "source": [
    "# Make predictions\n",
    "y_pred = clf.predict(X_test)"
   ]
  },
  {
   "cell_type": "code",
   "execution_count": 22,
   "id": "1df18f2a",
   "metadata": {},
   "outputs": [
    {
     "name": "stdout",
     "output_type": "stream",
     "text": [
      "Accuracy: 0.95\n"
     ]
    }
   ],
   "source": [
    "# Evaluate the model\n",
    "accuracy = accuracy_score(y_test, y_pred)\n",
    "print(f\"Accuracy: {accuracy}\")"
   ]
  },
  {
   "cell_type": "code",
   "execution_count": 23,
   "id": "ae5623f5",
   "metadata": {},
   "outputs": [
    {
     "name": "stdout",
     "output_type": "stream",
     "text": [
      "Best Hyperparameters: {'max_depth': 10, 'n_estimators': 100}\n"
     ]
    }
   ],
   "source": [
    "# Hyperparameter tuning using GridSearchCV\n",
    "param_grid = {\n",
    "    'n_estimators': [100, 200, 300],\n",
    "    'max_depth': [10, 20, 30, None]\n",
    "}\n",
    "grid_search = GridSearchCV(clf, param_grid, cv=5)\n",
    "grid_search.fit(X_train, y_train)\n",
    "best_params = grid_search.best_params_\n",
    "print(f\"Best Hyperparameters: {best_params}\")"
   ]
  },
  {
   "cell_type": "code",
   "execution_count": 24,
   "id": "18d04dac",
   "metadata": {},
   "outputs": [
    {
     "name": "stdout",
     "output_type": "stream",
     "text": [
      "Accuracy with best model: 0.9458333333333333\n"
     ]
    }
   ],
   "source": [
    "# Use the best model\n",
    "best_clf = grid_search.best_estimator_\n",
    "best_clf.fit(X_train, y_train)\n",
    "y_pred = best_clf.predict(X_test)\n",
    "accuracy = accuracy_score(y_test, y_pred)\n",
    "print(f\"Accuracy with best model: {accuracy}\")"
   ]
  },
  {
   "cell_type": "code",
   "execution_count": null,
   "id": "456a3ffc",
   "metadata": {},
   "outputs": [],
   "source": []
  }
 ],
 "metadata": {
  "kernelspec": {
   "display_name": "Python 3 (ipykernel)",
   "language": "python",
   "name": "python3"
  },
  "language_info": {
   "codemirror_mode": {
    "name": "ipython",
    "version": 3
   },
   "file_extension": ".py",
   "mimetype": "text/x-python",
   "name": "python",
   "nbconvert_exporter": "python",
   "pygments_lexer": "ipython3",
   "version": "3.11.5"
  }
 },
 "nbformat": 4,
 "nbformat_minor": 5
}
